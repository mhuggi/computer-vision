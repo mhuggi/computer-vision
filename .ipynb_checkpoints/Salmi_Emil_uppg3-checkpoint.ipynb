{
 "cells": [
  {
   "cell_type": "code",
   "execution_count": 2,
   "id": "textile-characteristic",
   "metadata": {},
   "outputs": [],
   "source": [
    "import cv2 as cv\n",
    "import numpy as np\n",
    "\n",
    "kernel = np.matrix([[1.0,1.0,1.0],\n",
    "                   [1.0,2.0,1.0],\n",
    "                   [1.0,1.0,1.0]]) / 10.0\n",
    "img = cv.imread(\"LP_filter-candidate.jpg\")\n",
    "\n",
    "filteredImage = cv.filter2D(img, -1, kernel)\n",
    "\n",
    "comp_img = np.hstack((img, filteredImage))\n",
    "cv.imshow(\"filtered image\", comp_img)\n",
    "cv.waitKey(0)\n",
    "cv.imwrite('uppg3_1.jpg', comp_img)\n",
    "\n",
    "cv.destroyAllWindows()"
   ]
  },
  {
   "cell_type": "code",
   "execution_count": 3,
   "id": "stylish-diameter",
   "metadata": {},
   "outputs": [],
   "source": [
    "kernel = np.matrix([[-1.0,-1.0,-1.0],\n",
    "                   [-1.0,9.0,-1.0],\n",
    "                   [-1.0,-1.0,-1.0]])\n",
    "img = cv.imread(\"High-Contrast.jpg\")\n",
    "\n",
    "filteredImage = cv.filter2D(img, -1, kernel)\n",
    "\n",
    "comp_img = np.hstack((img, filteredImage))\n",
    "cv.imshow(\"filtered image\", comp_img)\n",
    "cv.waitKey(0)\n",
    "cv.imwrite('uppg3_2.jpg', comp_img)\n",
    "\n",
    "cv.destroyAllWindows()"
   ]
  },
  {
   "cell_type": "code",
   "execution_count": 12,
   "id": "concerned-homework",
   "metadata": {},
   "outputs": [],
   "source": [
    "import scipy.ndimage as ndimage\n",
    "\n",
    "img = cv.imread(\"LP_filter-candidate.jpg\")\n",
    "gausImg = ndimage.gaussian_filter(img, sigma=5)\n",
    "gausImg2 = ndimage.gaussian_filter(img, sigma=2)\n",
    "\n",
    "comp_img = np.hstack((img, gausImg, gausImg2))\n",
    "cv.imshow(\"filtered image\", comp_img)\n",
    "cv.waitKey(0)\n",
    "cv.imwrite('uppg3_3.jpg', comp_img)\n",
    "\n",
    "cv.destroyAllWindows()"
   ]
  },
  {
   "cell_type": "markdown",
   "id": "institutional-surveillance",
   "metadata": {},
   "source": []
  },
  {
   "cell_type": "code",
   "execution_count": 13,
   "id": "grateful-tourism",
   "metadata": {},
   "outputs": [],
   "source": [
    "img = cv.imread(\"Picture1_median_filtering.png\")\n",
    "\n",
    "filteredImage = cv.medianBlur(img, ksize=3)\n",
    "filteredImage2 = cv.medianBlur(img, ksize=7)\n",
    "filteredImage3 = cv.medianBlur(img, ksize=11)\n",
    "\n",
    "comp_img = np.hstack((filteredImage, filteredImage2, filteredImage3))\n",
    "cv.imshow(\"filtered image\", comp_img)\n",
    "cv.waitKey(0)\n",
    "cv.imwrite('uppg3_4.jpg', comp_img)\n",
    "\n",
    "cv.destroyAllWindows()"
   ]
  },
  {
   "cell_type": "code",
   "execution_count": null,
   "id": "attended-extension",
   "metadata": {},
   "outputs": [],
   "source": []
  }
 ],
 "metadata": {
  "kernelspec": {
   "display_name": "Python 3",
   "language": "python",
   "name": "python3"
  },
  "language_info": {
   "codemirror_mode": {
    "name": "ipython",
    "version": 3
   },
   "file_extension": ".py",
   "mimetype": "text/x-python",
   "name": "python",
   "nbconvert_exporter": "python",
   "pygments_lexer": "ipython3",
   "version": "3.8.5"
  }
 },
 "nbformat": 4,
 "nbformat_minor": 5
}
