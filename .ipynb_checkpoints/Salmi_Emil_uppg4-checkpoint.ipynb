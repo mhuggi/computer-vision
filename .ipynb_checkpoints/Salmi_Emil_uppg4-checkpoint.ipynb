{
 "cells": [
  {
   "cell_type": "code",
   "execution_count": 111,
   "id": "fallen-necklace",
   "metadata": {},
   "outputs": [],
   "source": [
    "import cv2 as cv\n",
    "import numpy as np\n",
    "import scipy.ndimage as ndimage\n",
    "\n",
    "# Sharpen image\n",
    "kernel = np.matrix([[0.0,-1.0,0.0],\n",
    "                   [-1.0,5.0,-1.0],\n",
    "                   [0.0,-1.0,0.0]])\n",
    "img = cv.imread(\"build.jpg\", 0)\n",
    "filteredImage = cv.filter2D(img, -1, kernel)\n",
    "comp_img = np.hstack((img, filteredImage))\n",
    "cv.imshow(\"filtered image\", comp_img)\n",
    "cv.waitKey(0)\n",
    "cv.imwrite(\"uppg4_1.jpg\", comp_img)\n",
    "cv.destroyAllWindows()"
   ]
  },
  {
   "cell_type": "code",
   "execution_count": 112,
   "id": "private-december",
   "metadata": {},
   "outputs": [],
   "source": [
    "# Detecting edges by manually defining x and y operators \n",
    "\n",
    "kernelx = np.matrix([[1.0,2.0,1.0],\n",
    "                   [0.0,0.0,0.0],\n",
    "                   [-1.0,-2.0,-1.0]])\n",
    "kernely = np.matrix([[-1.0,0.0,1.0],\n",
    "                   [-2.0,0.0,2.0],\n",
    "                   [-1.0,0.0,1.0]])\n",
    "\n",
    "img = cv.imread(\"build.jpg\", 0)\n",
    "filteredx = cv.filter2D(img, -1, kernelx)\n",
    "filteredImg = cv.filter2D(filteredx, -1, kernely)\n",
    "cv.imshow(\"filtered image\", filteredImg)\n",
    "cv.waitKey(0)\n",
    "cv.imwrite(\"uppg4_2.jpg\", filteredImg)\n",
    "cv.destroyAllWindows()"
   ]
  },
  {
   "cell_type": "code",
   "execution_count": 108,
   "id": "severe-buying",
   "metadata": {},
   "outputs": [],
   "source": [
    "# Using sobel function to detect edges of building\n",
    "\n",
    "img = cv.imread(\"build.jpg\", 0)\n",
    "\n",
    "\n",
    "sobelImg = cv.Sobel(img, -1, 1, 1, ksize=3)\n",
    "cv.imshow(\"Made with sobel function\", sobelImg)\n",
    "cv.waitKey(0)\n",
    "cv.imwrite(\"uppg4_3.jpg\", sobelImg)\n",
    "cv.destroyAllWindows()"
   ]
  },
  {
   "cell_type": "code",
   "execution_count": 106,
   "id": "separate-fifty",
   "metadata": {},
   "outputs": [],
   "source": [
    "# Canny function on the building, gives decent results but misses some details\n",
    "# Could get better results by manually setting min and max values for the Canny funtion\n",
    "\n",
    "img = cv.imread(\"build.jpg\", 0)\n",
    "img = cv.GaussianBlur(img, (3, 3), 0)\n",
    "\n",
    "med = np.median(img)\n",
    "minVal = med * 0.67\n",
    "maxVal = med * 1.33\n",
    "\n",
    "canImg = cv.Canny(img, minVal, maxVal)\n",
    "\n",
    "cv.imshow(\"Canny\", canImg)\n",
    "cv.waitKey(0)\n",
    "cv.imwrite(\"uppg4_4.jpg\", canImg)\n",
    "cv.destroyAllWindows()"
   ]
  },
  {
   "cell_type": "code",
   "execution_count": 114,
   "id": "rotary-louis",
   "metadata": {},
   "outputs": [],
   "source": [
    "# Read image\n",
    "img = cv.imread(\"face.jpg\", 0)\n",
    "#Create kernel for sharpening\n",
    "kernel = np.matrix([[0.0,-1.0,0.0],\n",
    "                   [-1.0,5.0,-1.0],\n",
    "                   [0.0,-1.0,0.0]])\n",
    "kernelx = np.matrix([[1.0,2.0,1.0],\n",
    "                   [0.0,0.0,0.0],\n",
    "                   [-1.0,-2.0,-1.0]])\n",
    "kernely = np.matrix([[-1.0,0.0,1.0],\n",
    "                   [-2.0,0.0,2.0],\n",
    "                   [-1.0,0.0,1.0]])\n",
    "\n",
    "# Median blur to remove salt and pepper\n",
    "img = cv.medianBlur(img, ksize=15)\n",
    "\n",
    "# Sharpen image (Doens't really work as the picture is too blurry)\n",
    "img = cv.filter2D(img, -1, kernel)\n",
    "\n",
    "# Use filter2D function on x and y (seems to give better results than just using the Sobel function)\n",
    "filteredx = cv.filter2D(img, -1, kernelx)\n",
    "filteredImg = cv.filter2D(filteredx, -1, kernely)\n",
    "\n",
    "# Not really a great result but the image is not great either. Maybe better sharpening parameters would help?\n",
    "cv.imshow(\"Img\", filteredImg)\n",
    "cv.waitKey(0)\n",
    "cv.imwrite(\"uppg4_5.jpg\", filteredImg)\n",
    "cv.destroyAllWindows()"
   ]
  },
  {
   "cell_type": "code",
   "execution_count": null,
   "id": "equipped-weight",
   "metadata": {},
   "outputs": [],
   "source": []
  }
 ],
 "metadata": {
  "kernelspec": {
   "display_name": "Python 3",
   "language": "python",
   "name": "python3"
  },
  "language_info": {
   "codemirror_mode": {
    "name": "ipython",
    "version": 3
   },
   "file_extension": ".py",
   "mimetype": "text/x-python",
   "name": "python",
   "nbconvert_exporter": "python",
   "pygments_lexer": "ipython3",
   "version": "3.8.5"
  }
 },
 "nbformat": 4,
 "nbformat_minor": 5
}
