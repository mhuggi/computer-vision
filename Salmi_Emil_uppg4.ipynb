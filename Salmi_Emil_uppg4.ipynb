{
 "cells": [
  {
   "cell_type": "code",
   "execution_count": 27,
   "id": "fallen-necklace",
   "metadata": {},
   "outputs": [],
   "source": [
    "import cv2 as cv\n",
    "import numpy as np\n",
    "import scipy.ndimage as ndimage\n",
    "\n",
    "\n",
    "kernel = np.matrix([[0.0,-1.0,0.0],\n",
    "                   [-1.0,5.0,-1.0],\n",
    "                   [0.0,-1.0,0.0]])\n",
    "img = cv.imread(\"build.jpg\", 0)\n",
    "filteredImage = cv.filter2D(img, -1, kernel)\n",
    "comp_img = np.hstack((img, filteredImage))\n",
    "cv.imshow(\"filtered image\", comp_img)\n",
    "cv.waitKey(0)\n",
    "cv.imwrite(\"uppg4_1.jpg\", comp_img)\n",
    "cv.destroyAllWindows()"
   ]
  },
  {
   "cell_type": "markdown",
   "id": "hawaiian-picture",
   "metadata": {},
   "source": [
    "## Sharpens image for easier edge detection"
   ]
  },
  {
   "cell_type": "code",
   "execution_count": 28,
   "id": "private-december",
   "metadata": {},
   "outputs": [],
   "source": [
    "kernelx = np.matrix([[1.0,2.0,1.0],\n",
    "                   [0.0,0.0,0.0],\n",
    "                   [-1.0,-2.0,-1.0]])\n",
    "kernely = np.matrix([[-1.0,0.0,1.0],\n",
    "                   [-2.0,0.0,2.0],\n",
    "                   [-1.0,0.0,1.0]])\n",
    "\n",
    "img = cv.imread(\"build.jpg\", 0)\n",
    "filteredx = cv.filter2D(img, -1, kernelx)\n",
    "filteredImg = cv.filter2D(filteredx, -1, kernely)\n",
    "comp_img = np.hstack((filteredx, filteredImg))\n",
    "cv.imshow(\"filtered image\", comp_img)\n",
    "cv.waitKey(0)\n",
    "cv.imwrite(\"uppg4_2.jpg\", comp_img)\n",
    "cv.destroyAllWindows()"
   ]
  },
  {
   "cell_type": "code",
   "execution_count": 34,
   "id": "severe-buying",
   "metadata": {},
   "outputs": [],
   "source": [
    "img = cv.imread(\"build.jpg\", 0)\n",
    "\n",
    "\n",
    "sobelImg = cv.Sobel(img, -1, 1, 1, ksize=3)\n",
    "cv.imshow(\"Made with sobel function\", sobelImg)\n",
    "cv.waitKey(0)\n",
    "cv.imwrite(\"uppg4_3.jpg\", sobelImg)\n",
    "cv.destroyAllWindows()"
   ]
  },
  {
   "cell_type": "code",
   "execution_count": 46,
   "id": "separate-fifty",
   "metadata": {},
   "outputs": [],
   "source": [
    "\n",
    "img = cv.imread(\"build.jpg\", 0)\n",
    "img = cv.GaussianBlur(img, (3, 3), 0)\n",
    "\n",
    "med = np.median(img)\n",
    "minVal = med * 0.67\n",
    "maxVal = med * 1.33\n",
    "\n",
    "canImg = cv.Canny(img, minVal, maxVal)\n",
    "\n",
    "cv.imshow(\"Canny\", canImg)\n",
    "cv.waitKey(0)\n",
    "cv.imwrite(\"uppg4_4.jpg\", canImg)\n",
    "cv.destroyAllWindows()"
   ]
  },
  {
   "cell_type": "code",
   "execution_count": null,
   "id": "rotary-louis",
   "metadata": {},
   "outputs": [],
   "source": []
  }
 ],
 "metadata": {
  "kernelspec": {
   "display_name": "Python 3",
   "language": "python",
   "name": "python3"
  },
  "language_info": {
   "codemirror_mode": {
    "name": "ipython",
    "version": 3
   },
   "file_extension": ".py",
   "mimetype": "text/x-python",
   "name": "python",
   "nbconvert_exporter": "python",
   "pygments_lexer": "ipython3",
   "version": "3.8.5"
  }
 },
 "nbformat": 4,
 "nbformat_minor": 5
}
